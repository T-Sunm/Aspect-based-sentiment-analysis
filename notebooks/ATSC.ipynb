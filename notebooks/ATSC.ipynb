{
 "cells": [
  {
   "cell_type": "markdown",
   "metadata": {},
   "source": [
    "## Download datasets and import lib"
   ]
  },
  {
   "cell_type": "code",
   "execution_count": 1,
   "metadata": {},
   "outputs": [
    {
     "name": "stderr",
     "output_type": "stream",
     "text": [
      "d:\\Asus\\Ungdung\\Miniconda\\workspace\\envs\\AIOEx\\lib\\site-packages\\tqdm\\auto.py:21: TqdmWarning: IProgress not found. Please update jupyter and ipywidgets. See https://ipywidgets.readthedocs.io/en/stable/user_install.html\n",
      "  from .autonotebook import tqdm as notebook_tqdm\n"
     ]
    }
   ],
   "source": [
    "from datasets import load_dataset\n",
    "ds = load_dataset(\"thainq107/abte-restaurants\")"
   ]
  },
  {
   "cell_type": "code",
   "execution_count": 2,
   "metadata": {},
   "outputs": [
    {
     "name": "stdout",
     "output_type": "stream",
     "text": [
      "Description features: {'Tokens': Sequence(feature=Value(dtype='string', id=None), length=-1, id=None), 'Tags': Sequence(feature=Value(dtype='string', id=None), length=-1, id=None), 'Polarities': Sequence(feature=Value(dtype='string', id=None), length=-1, id=None)}\n",
      "Number of trainning samples: 3602\n",
      "First trainning sample: {'Tokens': ['But', 'the', 'staff', 'was', 'so', 'horrible', 'to', 'us', '.'], 'Tags': ['0', '0', '1', '0', '0', '0', '0', '0', '0'], 'Polarities': ['-1', '-1', '0', '-1', '-1', '-1', '-1', '-1', '-1']}\n"
     ]
    }
   ],
   "source": [
    "train_dataset = ds['train']\n",
    "test_dataset = ds['test']\n",
    "\n",
    "print(\"Description features:\", train_dataset.features)\n",
    "print(\"Number of trainning samples:\", train_dataset.num_rows)\n",
    "print(\"First trainning sample:\", train_dataset[0])"
   ]
  },
  {
   "cell_type": "markdown",
   "metadata": {},
   "source": [
    "## Tokenization"
   ]
  },
  {
   "cell_type": "code",
   "execution_count": 4,
   "metadata": {},
   "outputs": [],
   "source": [
    "from transformers import AutoTokenizer\n",
    "\n",
    "tokenizer = AutoTokenizer.from_pretrained(\"distilbert/distilbert-base-uncased\")"
   ]
  },
  {
   "cell_type": "code",
   "execution_count": 5,
   "metadata": {},
   "outputs": [
    {
     "name": "stderr",
     "output_type": "stream",
     "text": [
      "Map:   0%|          | 0/3602 [00:00<?, ? examples/s]"
     ]
    },
    {
     "name": "stderr",
     "output_type": "stream",
     "text": [
      "Map: 100%|██████████| 3602/3602 [00:00<00:00, 5913.55 examples/s]\n",
      "Map: 100%|██████████| 1119/1119 [00:00<00:00, 6416.22 examples/s]\n"
     ]
    },
    {
     "data": {
      "text/plain": [
       "{'Tokens': ['Not',\n",
       "  'only',\n",
       "  'was',\n",
       "  'the',\n",
       "  'food',\n",
       "  'outstanding',\n",
       "  ',',\n",
       "  'but',\n",
       "  'the',\n",
       "  'little',\n",
       "  '`',\n",
       "  'perks',\n",
       "  '\"\"',\n",
       "  'were',\n",
       "  'great',\n",
       "  '.'],\n",
       " 'Tags': ['0',\n",
       "  '0',\n",
       "  '0',\n",
       "  '0',\n",
       "  '1',\n",
       "  '0',\n",
       "  '0',\n",
       "  '0',\n",
       "  '0',\n",
       "  '0',\n",
       "  '0',\n",
       "  '1',\n",
       "  '0',\n",
       "  '0',\n",
       "  '0',\n",
       "  '0'],\n",
       " 'Polarities': ['-1',\n",
       "  '-1',\n",
       "  '-1',\n",
       "  '-1',\n",
       "  '2',\n",
       "  '-1',\n",
       "  '-1',\n",
       "  '-1',\n",
       "  '-1',\n",
       "  '-1',\n",
       "  '-1',\n",
       "  '-1',\n",
       "  '-1',\n",
       "  '-1',\n",
       "  '-1',\n",
       "  '-1'],\n",
       " 'input_ids': [100,\n",
       "  2069,\n",
       "  2001,\n",
       "  1996,\n",
       "  2833,\n",
       "  5151,\n",
       "  1010,\n",
       "  2021,\n",
       "  1996,\n",
       "  2210,\n",
       "  1036,\n",
       "  100,\n",
       "  100,\n",
       "  2020,\n",
       "  2307,\n",
       "  1012],\n",
       " 'labels': [-1, -1, -1, -1, 2, -1, -1, -1, -1, -1, -1, -1, -1, -1, -1, -1]}"
      ]
     },
     "execution_count": 5,
     "metadata": {},
     "output_type": "execute_result"
    }
   ],
   "source": [
    "def tokenize_and_align_labels(examples):\n",
    "    tokenized_inputs_batch = []\n",
    "    labels_batch = []\n",
    "    for i, (words, sen_polarity) in enumerate(zip(examples['Tokens'], examples['Polarities'])):\n",
    "        word_ids = tokenizer.convert_tokens_to_ids(words)\n",
    "        polarity_int = [int(polarity) for polarity in sen_polarity]\n",
    "\n",
    "        tokenized_inputs_batch.append(word_ids)\n",
    "        labels_batch.append(polarity_int)\n",
    "\n",
    "\n",
    "    return {\n",
    "        'input_ids': tokenized_inputs_batch,\n",
    "        'labels': labels_batch\n",
    "    }\n",
    "\n",
    "\n",
    "preprocessing_ds = ds.map(tokenize_and_align_labels, batched=True)\n",
    "preprocessing_ds['train'][5]"
   ]
  }
 ],
 "metadata": {
  "kernelspec": {
   "display_name": "AIOEx",
   "language": "python",
   "name": "python3"
  },
  "language_info": {
   "codemirror_mode": {
    "name": "ipython",
    "version": 3
   },
   "file_extension": ".py",
   "mimetype": "text/x-python",
   "name": "python",
   "nbconvert_exporter": "python",
   "pygments_lexer": "ipython3",
   "version": "3.10.15"
  }
 },
 "nbformat": 4,
 "nbformat_minor": 2
}
