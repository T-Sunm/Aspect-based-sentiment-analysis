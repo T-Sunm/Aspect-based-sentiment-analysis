{
 "cells": [
  {
   "cell_type": "code",
   "execution_count": 6,
   "metadata": {},
   "outputs": [],
   "source": [
    "from transformers import pipeline\n",
    "from transformers import AutoModelForSequenceClassification, AutoTokenizer, AutoModelForTokenClassification\n",
    "\n",
    "# Đường dẫn đến thư mục chứa mô hình và tokenizer\n",
    "model_ATSC_path = \"../checkpoints/abte-restaurants-distilbert-base-uncased/checkpoint-1808\"\n",
    "model_ATE_path = \"../checkpoints/ate-restaurants-distilbert-base-uncased/checkpoint-1356\"\n",
    "# Tải mô hình và tokenizer từ thư mục\n",
    "\n",
    "model_ATE = AutoModelForTokenClassification.from_pretrained(\n",
    "    model_ATE_path)\n",
    "model_ATSC = AutoModelForSequenceClassification.from_pretrained(\n",
    "    model_ATSC_path)\n",
    "tokenizer = AutoTokenizer.from_pretrained(\"distilbert/distilbert-base-uncased\")"
   ]
  },
  {
   "cell_type": "markdown",
   "metadata": {},
   "source": [
    "## Inferences"
   ]
  },
  {
   "cell_type": "code",
   "execution_count": 14,
   "metadata": {},
   "outputs": [
    {
     "name": "stderr",
     "output_type": "stream",
     "text": [
      "Device set to use cpu\n",
      "Device set to use cpu\n"
     ]
    },
    {
     "data": {
      "text/plain": [
       "[{'aspect names': 'bread',\n",
       "  'label polarity': 'Positive',\n",
       "  'score': 0.9995879530906677},\n",
       " {'aspect names': 'service',\n",
       "  'label polarity': 'Negative',\n",
       "  'score': 0.9959844350814819}]"
      ]
     },
     "execution_count": 14,
     "metadata": {},
     "output_type": "execute_result"
    }
   ],
   "source": [
    "from transformers import pipeline\n",
    "\n",
    "token_classifier = pipeline(\n",
    "    model=model_ATE,\n",
    "    task=\"ner\",\n",
    "    tokenizer=tokenizer,\n",
    "    aggregation_strategy=\"simple\"\n",
    ")\n",
    "\n",
    "classifier = pipeline(\n",
    "    model=model_ATSC,\n",
    "    task=\"text-classification\",\n",
    "    tokenizer=tokenizer,\n",
    "\n",
    ")\n",
    "\n",
    "test_sentence = 'The bread is top notch as well. The service could not be improved.'\n",
    "results = token_classifier(test_sentence)\n",
    "aspect_terms = \" \".join([result['word'] for result in results])\n",
    "PE = []\n",
    "for result in results:\n",
    "    aspect = result['word']\n",
    "    label_score_classification = classifier(f'{test_sentence} [SEP] {aspect}')[0]\n",
    "    PE.append(\n",
    "        {\"aspect names\":aspect, \"label polarity\": label_score_classification['label'], \"score\": label_score_classification['score'], })\n",
    "PE"
   ]
  }
 ],
 "metadata": {
  "kernelspec": {
   "display_name": "AIOEx",
   "language": "python",
   "name": "python3"
  },
  "language_info": {
   "codemirror_mode": {
    "name": "ipython",
    "version": 3
   },
   "file_extension": ".py",
   "mimetype": "text/x-python",
   "name": "python",
   "nbconvert_exporter": "python",
   "pygments_lexer": "ipython3",
   "version": "3.10.15"
  }
 },
 "nbformat": 4,
 "nbformat_minor": 2
}
